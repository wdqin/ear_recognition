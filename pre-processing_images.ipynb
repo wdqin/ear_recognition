{
 "cells": [
  {
   "cell_type": "code",
   "execution_count": 29,
   "metadata": {},
   "outputs": [],
   "source": [
    "#processing image(s)\n",
    "from reading_images_from_folder import *\n",
    "import matplotlib.pyplot as plt\n",
    "\n",
    "def processing_images(image,median = True, median_ksize = 5, hist_equal = True,resize = False, resize_ratio = 1):\n",
    "    image = cv2.cvtColor(image,cv2.COLOR_BGR2GRAY)\n",
    "    if(median):\n",
    "        image = cv2.medianBlur(image,median_ksize)\n",
    "    if(resize):\n",
    "        image = resize_image(image,resize_ratio)\n",
    "    if(hist_equal):\n",
    "        image = cv2.equalizeHist(image)\n",
    "    return image\n",
    "def resize_image(image,ratio):\n",
    "    height = image.shape[0]\n",
    "    width = image.shape[1]\n",
    "    new_height = int(height*ratio)\n",
    "    new_width = int(width*ratio)\n",
    "    image = cv2.resize(image,(new_width,new_height))\n",
    "    return image\n",
    "def crop_image(image,x_left,y_top,x_right,y_bottom):\n",
    "    image = image[y_top:y_bottom,x_left:x_right]\n",
    "    return image"
   ]
  }
 ],
 "metadata": {
  "kernelspec": {
   "display_name": "Python 3",
   "language": "python",
   "name": "python3"
  },
  "language_info": {
   "codemirror_mode": {
    "name": "ipython",
    "version": 3
   },
   "file_extension": ".py",
   "mimetype": "text/x-python",
   "name": "python",
   "nbconvert_exporter": "python",
   "pygments_lexer": "ipython3",
   "version": "3.6.4"
  }
 },
 "nbformat": 4,
 "nbformat_minor": 2
}
